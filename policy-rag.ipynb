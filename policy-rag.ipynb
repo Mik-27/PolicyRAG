{
 "cells": [
  {
   "cell_type": "code",
   "execution_count": 1,
   "metadata": {},
   "outputs": [
    {
     "name": "stderr",
     "output_type": "stream",
     "text": [
      "c:\\Mihir\\Projects\\RAG\\.venv\\Lib\\site-packages\\tqdm\\auto.py:21: TqdmWarning: IProgress not found. Please update jupyter and ipywidgets. See https://ipywidgets.readthedocs.io/en/stable/user_install.html\n",
      "  from .autonotebook import tqdm as notebook_tqdm\n"
     ]
    }
   ],
   "source": [
    "from application import PolicyRAG"
   ]
  },
  {
   "cell_type": "code",
   "execution_count": 2,
   "metadata": {},
   "outputs": [
    {
     "name": "stdout",
     "output_type": "stream",
     "text": [
      "Connected to Elasticsearch\n",
      "ObjectApiResponse({'name': 'instance-0000000000', 'cluster_name': 'b5907fd669a6477ca4c84f3ae8f3dcd7', 'cluster_uuid': 'J542oMtrQ3GrQRiGLFhCZw', 'version': {'number': '8.15.0', 'build_flavor': 'default', 'build_type': 'docker', 'build_hash': '1a77947f34deddb41af25e6f0ddb8e830159c179', 'build_date': '2024-08-05T10:05:34.233336849Z', 'build_snapshot': False, 'lucene_version': '9.11.1', 'minimum_wire_compatibility_version': '7.17.0', 'minimum_index_compatibility_version': '7.0.0'}, 'tagline': 'You Know, for Search'})\n"
     ]
    }
   ],
   "source": [
    "rag = PolicyRAG()"
   ]
  },
  {
   "cell_type": "code",
   "execution_count": 7,
   "metadata": {},
   "outputs": [
    {
     "name": "stdout",
     "output_type": "stream",
     "text": [
      "1024\n"
     ]
    }
   ],
   "source": [
    "res = rag.search_docs(by=\"embedding\", query=\"What is the recommended turnaround time for abatement fees of $30,000?\")\n"
   ]
  },
  {
   "cell_type": "code",
   "execution_count": 8,
   "metadata": {},
   "outputs": [
    {
     "data": {
      "text/plain": [
       "[{'id': 15492282,\n",
       "  'pdf_path': './documents/1549228.pdf',\n",
       "  'text': ['1  \\n \\nCapital Programs Management Group (CPM)  \\n  \\nCPM 301–05: Asbestos Abatement  \\n \\nEffective : 6/20/1986         Revised : 7/1/2024  \\n \\nPurpose  \\nTo reduce the potential for disturbance of and potential exposure to airborne asbestos fibers from asbestos -containing \\nmaterials in university buildings and to comply with applicable regulatory requirements  \\n \\nSource s \\n29 Code of Federal Regulations  §§ 1910.1 34, -.1001, -.1200, and 1926.1101  \\n40 Code of Federal Regulations  §§ 61 Subpart M, 763 Subpart E  \\n49 Code of Federal Regulations  § 172  \\n \\nApplicability  \\nMaintenance workers  \\nProject managers  \\nContractors  \\n \\nPolicy  \\nASU conducts asbestos abatement response actions ne cessary to protect the health and safety of building occupants, \\nconstruction personnel, and the building environment when a remodeling, renovation, or demolition project occurs on \\ncampus. ASU employees or contractors may not disturb any suspect materials a s defined in this policy located in any \\nASU owned or leased buildings.  \\nCapital Programs Management Group (CPMG) will inspect or otherwise assess building areas potentially affected by \\ncapital projects or maintenance activities to ascertain the presence of asbestos -containing materials (ACM)  prior to the \\nstart of any operations that will disturb building materials.  \\n \\nDefinitions  \\nAsbestos -Containing Material (ACM)  \\nAny material containing more than one percent asbestos.  \\n \\nOSHA Class III Competent Person  \\nA person who is capable of identifying existing asbestos hazards in the workplace and selecting the appropriate \\ncontrol strategy for asbestos exposure; who has the authority to take prompt corrective measures to eliminate \\n',\n",
       "   '2 them; and who is trained in a mann er consistent with Environmental Protection Agency (EPA) requirements for \\ntraining of local education agency maintenance and custodial staff as set forth at 40 CFR 763.92 (a)(2).  \\nPresumed Asbestos -Containing Material (PACM)  \\nThermal system insulation and su rfacing material found in buildings constructed no later than 1980.  \\nSuspected Materials  \\nBuilding materials suspected of containing asbestos, including but not limited to: wall materials (gypsum drywall \\nand plaster), ceiling tiles, ceiling tile adhesives, f loor tiles, floor tile adhesives, sheet vinyl floorings, cove base \\nadhesives, pipe insulation, duct seam tape, fireproofing, gaskets, caulkings of all types, and ceramic tile grouts.  \\nThermal System Insulation (TSI)  \\nHard packed piping insulation normally fo und wrapped in -place around plumbing and other piping.  \\n \\nProcedures  \\nSearch for Buildings Construction Dates  \\nBuilding construction dates are available by one of the following methods:  \\n1. The building construction date will automatically appear as part of the building name when inserting the building \\nname on either of the following online forms:  \\no The ASU Capital Programs Management Request for Asbestos Services (accessible from the Uni versity \\nServices Asbestos Management Program ) \\no Tempe campus TMA Service Request (accessible from the Facilities Service Center ) \\n2. The building construction date is available in the online Facility Lists , which may be sorted alphabetically, by \\nbuilding number, or by  campus  \\nand \\n3. The building construction date is included in the online Facilities Data Sheet  for each building.  \\n \\nGeneral Facilities Maintenance Work —All ASU Owned Buildings  \\nAt its option, CPMG will ensure that inspections occur as necessary to ascertain the presence of ACM prior to the start \\nof any operations that wil l disturb building materials.  \\nTypical building materials suspected of containing asbestos include but are not limited to: wall materials (gypsum \\ndrywall and plaster), ceiling tiles, ceiling tile adhesives, floor tiles, floor tile adhesives, sheet vinyl flo orings, cove base \\nadhesives, pipe insulation, duct seam tape, fireproofing, gaskets, concrete, caulking of all types, and ceramic tile.  \\n \\nCPMG Asbestos Inspection Procedure  \\nThe project manager for any construction/renovation/demolition projects where any suspected asbestos -containing \\nmaterials  will be disturbed must follow this procedure:  \\n1. Contact the CPMG Asbestos Management Group (AMG) at  Facilities Service Center  for asbestos services at the \\ninitial planning stage of a new project; no building material may be impacted without determining whether ACM is \\npresent  ',\n",
       "   '3 2. Mark areas of impact on a current floor plan and submit to AMG, which arranges for an asbestos -containing  \\nmaterials inspection and has the affected materials tested. AMG will estimate the time and expense needed to \\nperform necessary abatement and submits this information to the project manager  \\n3. Conduct a site visit with the AMG for asbestos services  \\n4. Discuss an d concur on the project scope and schedule for asbestos abatement with the CPMG program manager.  \\nCPMG will coordinate and procure necessary asbestos consultants and asbestos abatement contractors to perform \\nasbestos abatement.  \\nThe ASU Capital Programs Mana gement Request for Asbestos Services online form is accessible from this Facilities \\nForms  site. After completing the online form, select “Submit Request.”  \\nFor routine asbestos  abatement projects with vendor fees less than $35,000 a six -week average turnaround time is \\nrecommended. For asbestos abatement projects with individual vendor fees more than $35,000 a four -month average \\nturnaround time is recommended to allow detailed pl anning and design.  \\nNote: Although projects can often be completed in a shorter period of time following these guidelines will help ensure a \\nproject is completed without complication or delay.  \\nPermit -required renovations must undergo standard asbestos revie ws as for the issuing of construction permits as \\ndescribed above. ip  \\n '],\n",
       "  'score': 1.6800251},\n",
       " {'id': 15492281,\n",
       "  'pdf_path': './documents/1549228.pdf',\n",
       "  'text': ['1  \\n \\nCapital Programs Management Group (CPM)  \\n  \\nCPM 301–05: Asbestos Abatement  \\n \\nEffective : 6/20/1986         Revised : 7/1/2024  \\n \\nPurpose  \\nTo reduce the potential for disturbance of and potential exposure to airborne asbestos fibers from asbestos -containing \\nmaterials in university buildings and to comply with applicable regulatory requirements  \\n \\nSource s \\n29 Code of Federal Regulations  §§ 1910.1 34, -.1001, -.1200, and 1926.1101  \\n40 Code of Federal Regulations  §§ 61 Subpart M, 763 Subpart E  \\n49 Code of Federal Regulations  § 172  \\n \\nApplicability  \\nMaintenance workers  \\nProject managers  \\nContractors  \\n \\nPolicy  \\nASU conducts asbestos abatement response actions ne cessary to protect the health and safety of building occupants, \\nconstruction personnel, and the building environment when a remodeling, renovation, or demolition project occurs on \\ncampus. ASU employees or contractors may not disturb any suspect materials a s defined in this policy located in any \\nASU owned or leased buildings.  \\nCapital Programs Management Group (CPMG) will inspect or otherwise assess building areas potentially affected by \\ncapital projects or maintenance activities to ascertain the presence of asbestos -containing materials (ACM)  prior to the \\nstart of any operations that will disturb building materials.  \\n \\nDefinitions  \\nAsbestos -Containing Material (ACM)  \\nAny material containing more than one percent asbestos.  \\n \\nOSHA Class III Competent Person  \\nA person who is capable of identifying existing asbestos hazards in the workplace and selecting the appropriate \\ncontrol strategy for asbestos exposure; who has the authority to take prompt corrective measures to eliminate \\n',\n",
       "   '2 them; and who is trained in a mann er consistent with Environmental Protection Agency (EPA) requirements for \\ntraining of local education agency maintenance and custodial staff as set forth at 40 CFR 763.92 (a)(2).  \\nPresumed Asbestos -Containing Material (PACM)  \\nThermal system insulation and su rfacing material found in buildings constructed no later than 1980.  \\nSuspected Materials  \\nBuilding materials suspected of containing asbestos, including but not limited to: wall materials (gypsum drywall \\nand plaster), ceiling tiles, ceiling tile adhesives, f loor tiles, floor tile adhesives, sheet vinyl floorings, cove base \\nadhesives, pipe insulation, duct seam tape, fireproofing, gaskets, caulkings of all types, and ceramic tile grouts.  \\nThermal System Insulation (TSI)  \\nHard packed piping insulation normally fo und wrapped in -place around plumbing and other piping.  \\n \\nProcedures  \\nSearch for Buildings Construction Dates  \\nBuilding construction dates are available by one of the following methods:  \\n1. The building construction date will automatically appear as part of the building name when inserting the building \\nname on either of the following online forms:  \\no The ASU Capital Programs Management Request for Asbestos Services (accessible from the Uni versity \\nServices Asbestos Management Program ) \\no Tempe campus TMA Service Request (accessible from the Facilities Service Center ) \\n2. The building construction date is available in the online Facility Lists , which may be sorted alphabetically, by \\nbuilding number, or by  campus  \\nand \\n3. The building construction date is included in the online Facilities Data Sheet  for each building.  \\n \\nGeneral Facilities Maintenance Work —All ASU Owned Buildings  \\nAt its option, CPMG will ensure that inspections occur as necessary to ascertain the presence of ACM prior to the start \\nof any operations that wil l disturb building materials.  \\nTypical building materials suspected of containing asbestos include but are not limited to: wall materials (gypsum \\ndrywall and plaster), ceiling tiles, ceiling tile adhesives, floor tiles, floor tile adhesives, sheet vinyl flo orings, cove base \\nadhesives, pipe insulation, duct seam tape, fireproofing, gaskets, concrete, caulking of all types, and ceramic tile.  \\n \\nCPMG Asbestos Inspection Procedure  \\nThe project manager for any construction/renovation/demolition projects where any suspected asbestos -containing \\nmaterials  will be disturbed must follow this procedure:  \\n1. Contact the CPMG Asbestos Management Group (AMG) at  Facilities Service Center  for asbestos services at the \\ninitial planning stage of a new project; no building material may be impacted without determining whether ACM is \\npresent  ',\n",
       "   '3 2. Mark areas of impact on a current floor plan and submit to AMG, which arranges for an asbestos -containing  \\nmaterials inspection and has the affected materials tested. AMG will estimate the time and expense needed to \\nperform necessary abatement and submits this information to the project manager  \\n3. Conduct a site visit with the AMG for asbestos services  \\n4. Discuss an d concur on the project scope and schedule for asbestos abatement with the CPMG program manager.  \\nCPMG will coordinate and procure necessary asbestos consultants and asbestos abatement contractors to perform \\nasbestos abatement.  \\nThe ASU Capital Programs Mana gement Request for Asbestos Services online form is accessible from this Facilities \\nForms  site. After completing the online form, select “Submit Request.”  \\nFor routine asbestos  abatement projects with vendor fees less than $35,000 a six -week average turnaround time is \\nrecommended. For asbestos abatement projects with individual vendor fees more than $35,000 a four -month average \\nturnaround time is recommended to allow detailed pl anning and design.  \\nNote: Although projects can often be completed in a shorter period of time following these guidelines will help ensure a \\nproject is completed without complication or delay.  \\nPermit -required renovations must undergo standard asbestos revie ws as for the issuing of construction permits as \\ndescribed above. ip  \\n '],\n",
       "  'score': 1.5803342},\n",
       " {'id': 15492280,\n",
       "  'pdf_path': './documents/1549228.pdf',\n",
       "  'text': ['1  \\n \\nCapital Programs Management Group (CPM)  \\n  \\nCPM 301–05: Asbestos Abatement  \\n \\nEffective : 6/20/1986         Revised : 7/1/2024  \\n \\nPurpose  \\nTo reduce the potential for disturbance of and potential exposure to airborne asbestos fibers from asbestos -containing \\nmaterials in university buildings and to comply with applicable regulatory requirements  \\n \\nSource s \\n29 Code of Federal Regulations  §§ 1910.1 34, -.1001, -.1200, and 1926.1101  \\n40 Code of Federal Regulations  §§ 61 Subpart M, 763 Subpart E  \\n49 Code of Federal Regulations  § 172  \\n \\nApplicability  \\nMaintenance workers  \\nProject managers  \\nContractors  \\n \\nPolicy  \\nASU conducts asbestos abatement response actions ne cessary to protect the health and safety of building occupants, \\nconstruction personnel, and the building environment when a remodeling, renovation, or demolition project occurs on \\ncampus. ASU employees or contractors may not disturb any suspect materials a s defined in this policy located in any \\nASU owned or leased buildings.  \\nCapital Programs Management Group (CPMG) will inspect or otherwise assess building areas potentially affected by \\ncapital projects or maintenance activities to ascertain the presence of asbestos -containing materials (ACM)  prior to the \\nstart of any operations that will disturb building materials.  \\n \\nDefinitions  \\nAsbestos -Containing Material (ACM)  \\nAny material containing more than one percent asbestos.  \\n \\nOSHA Class III Competent Person  \\nA person who is capable of identifying existing asbestos hazards in the workplace and selecting the appropriate \\ncontrol strategy for asbestos exposure; who has the authority to take prompt corrective measures to eliminate \\n',\n",
       "   '2 them; and who is trained in a mann er consistent with Environmental Protection Agency (EPA) requirements for \\ntraining of local education agency maintenance and custodial staff as set forth at 40 CFR 763.92 (a)(2).  \\nPresumed Asbestos -Containing Material (PACM)  \\nThermal system insulation and su rfacing material found in buildings constructed no later than 1980.  \\nSuspected Materials  \\nBuilding materials suspected of containing asbestos, including but not limited to: wall materials (gypsum drywall \\nand plaster), ceiling tiles, ceiling tile adhesives, f loor tiles, floor tile adhesives, sheet vinyl floorings, cove base \\nadhesives, pipe insulation, duct seam tape, fireproofing, gaskets, caulkings of all types, and ceramic tile grouts.  \\nThermal System Insulation (TSI)  \\nHard packed piping insulation normally fo und wrapped in -place around plumbing and other piping.  \\n \\nProcedures  \\nSearch for Buildings Construction Dates  \\nBuilding construction dates are available by one of the following methods:  \\n1. The building construction date will automatically appear as part of the building name when inserting the building \\nname on either of the following online forms:  \\no The ASU Capital Programs Management Request for Asbestos Services (accessible from the Uni versity \\nServices Asbestos Management Program ) \\no Tempe campus TMA Service Request (accessible from the Facilities Service Center ) \\n2. The building construction date is available in the online Facility Lists , which may be sorted alphabetically, by \\nbuilding number, or by  campus  \\nand \\n3. The building construction date is included in the online Facilities Data Sheet  for each building.  \\n \\nGeneral Facilities Maintenance Work —All ASU Owned Buildings  \\nAt its option, CPMG will ensure that inspections occur as necessary to ascertain the presence of ACM prior to the start \\nof any operations that wil l disturb building materials.  \\nTypical building materials suspected of containing asbestos include but are not limited to: wall materials (gypsum \\ndrywall and plaster), ceiling tiles, ceiling tile adhesives, floor tiles, floor tile adhesives, sheet vinyl flo orings, cove base \\nadhesives, pipe insulation, duct seam tape, fireproofing, gaskets, concrete, caulking of all types, and ceramic tile.  \\n \\nCPMG Asbestos Inspection Procedure  \\nThe project manager for any construction/renovation/demolition projects where any suspected asbestos -containing \\nmaterials  will be disturbed must follow this procedure:  \\n1. Contact the CPMG Asbestos Management Group (AMG) at  Facilities Service Center  for asbestos services at the \\ninitial planning stage of a new project; no building material may be impacted without determining whether ACM is \\npresent  ',\n",
       "   '3 2. Mark areas of impact on a current floor plan and submit to AMG, which arranges for an asbestos -containing  \\nmaterials inspection and has the affected materials tested. AMG will estimate the time and expense needed to \\nperform necessary abatement and submits this information to the project manager  \\n3. Conduct a site visit with the AMG for asbestos services  \\n4. Discuss an d concur on the project scope and schedule for asbestos abatement with the CPMG program manager.  \\nCPMG will coordinate and procure necessary asbestos consultants and asbestos abatement contractors to perform \\nasbestos abatement.  \\nThe ASU Capital Programs Mana gement Request for Asbestos Services online form is accessible from this Facilities \\nForms  site. After completing the online form, select “Submit Request.”  \\nFor routine asbestos  abatement projects with vendor fees less than $35,000 a six -week average turnaround time is \\nrecommended. For asbestos abatement projects with individual vendor fees more than $35,000 a four -month average \\nturnaround time is recommended to allow detailed pl anning and design.  \\nNote: Although projects can often be completed in a shorter period of time following these guidelines will help ensure a \\nproject is completed without complication or delay.  \\nPermit -required renovations must undergo standard asbestos revie ws as for the issuing of construction permits as \\ndescribed above. ip  \\n '],\n",
       "  'score': 1.5784078}]"
      ]
     },
     "execution_count": 8,
     "metadata": {},
     "output_type": "execute_result"
    }
   ],
   "source": [
    "res"
   ]
  },
  {
   "cell_type": "code",
   "execution_count": 9,
   "metadata": {},
   "outputs": [
    {
     "name": "stdout",
     "output_type": "stream",
     "text": [
      "15492282-1.6800251\n",
      "15492281-1.5803342\n",
      "15492280-1.5784078\n"
     ]
    }
   ],
   "source": [
    "for doc in res:\n",
    "    print(str(doc[\"id\"]) + \"-\" + str(doc[\"score\"]))"
   ]
  },
  {
   "cell_type": "code",
   "execution_count": null,
   "metadata": {},
   "outputs": [],
   "source": []
  },
  {
   "cell_type": "code",
   "execution_count": null,
   "metadata": {},
   "outputs": [],
   "source": []
  }
 ],
 "metadata": {
  "kernelspec": {
   "display_name": ".venv",
   "language": "python",
   "name": "python3"
  },
  "language_info": {
   "codemirror_mode": {
    "name": "ipython",
    "version": 3
   },
   "file_extension": ".py",
   "mimetype": "text/x-python",
   "name": "python",
   "nbconvert_exporter": "python",
   "pygments_lexer": "ipython3",
   "version": "3.12.3"
  }
 },
 "nbformat": 4,
 "nbformat_minor": 2
}
